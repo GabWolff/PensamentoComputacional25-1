{
  "nbformat": 4,
  "nbformat_minor": 0,
  "metadata": {
    "colab": {
      "provenance": [],
      "authorship_tag": "ABX9TyMBYmcnDLEtFuIXK1HR2J/W",
      "include_colab_link": true
    },
    "kernelspec": {
      "name": "python3",
      "display_name": "Python 3"
    },
    "language_info": {
      "name": "python"
    }
  },
  "cells": [
    {
      "cell_type": "markdown",
      "metadata": {
        "id": "view-in-github",
        "colab_type": "text"
      },
      "source": [
        "<a href=\"https://colab.research.google.com/github/GabWolff/PensamentoComputacional25-1/blob/main/Lista_de_exerc%C3%ADcios_Python_1.ipynb\" target=\"_parent\"><img src=\"https://colab.research.google.com/assets/colab-badge.svg\" alt=\"Open In Colab\"/></a>"
      ]
    },
    {
      "cell_type": "markdown",
      "source": [
        "# Exercicios de Aula: Comandos de entrada e saída em Python"
      ],
      "metadata": {
        "id": "yQvZy6yL8hta"
      }
    },
    {
      "cell_type": "markdown",
      "source": [
        "1- Faça em Python um algoritmo que leia um número inteiro qualquer. O algoritmo deve calcular e escrever o quadrado, a raiz quadrada, e a divisão do quadrado pela raiz quadrada do número lido."
      ],
      "metadata": {
        "id": "TmOfRn8n9Rys"
      }
    },
    {
      "cell_type": "code",
      "source": [
        "# Algoritmo de calculo de quadrado, raiz quadrada e divisão do quadrado pela raiz quadrada\n",
        "\n",
        "#Bibliotecas\n",
        "import math\n",
        "\n",
        "# vars\n",
        "n = 0\n",
        "quad = 0\n",
        "raiz = 0.0\n",
        "div_quad_raiz = 0.0\n",
        "\n",
        "# inicio\n",
        "n = int(input(\"informe um numero inteiro qualquer:\"))\n",
        "\n",
        "# quadrado de n\n",
        "quad = n ** 2\n",
        "\n",
        "# raiz quadrada\n",
        "raiz = math.sqrt(n)\n",
        "\n",
        "# divisão do quadrado pela raiz\n",
        "div_quad_raiz = quad/raiz\n",
        "\n",
        "print(\"O quadrado de\", n, \"é\", quad, \", a raiz quadrada é\", raiz, \"e a divisão do quadrado pela raiz quadrada é\", div_quad_raiz)"
      ],
      "metadata": {
        "colab": {
          "base_uri": "https://localhost:8080/"
        },
        "id": "V2aX24c39T9E",
        "outputId": "cec24cae-9eef-43e0-b6cb-0219c9bf54dd"
      },
      "execution_count": null,
      "outputs": [
        {
          "output_type": "stream",
          "name": "stdout",
          "text": [
            "informe um numero inteiro qualquer:9\n",
            "O quadrado de 9 é 81 , a raiz quadrada é 3.0 e a divisão do quadrado pela raiz quadrada é 27.0\n"
          ]
        }
      ]
    },
    {
      "cell_type": "markdown",
      "source": [
        "2. Faça em Python um algoritmo que calcule e escreva o preço final de um computador, sendo fornecido o\n",
        "preço de fábrica. O preço final do computador é calculado com base nos adicionais de: 30 % de imposto e\n",
        "10 % de revenda sobre o preço de fábrica."
      ],
      "metadata": {
        "id": "MKjp71nUB8cS"
      }
    },
    {
      "cell_type": "code",
      "source": [
        "# Algoritmo que escreve e calcula o valor do computador, 30 % de imposto e 10 % de revenda sobre o preço de fábrica.\n",
        "\n",
        "# inicio\n",
        "p_fab = float(input(\"INFORME O PREÇO DE FÁBRICA DO COMPUTADOR:\"))\n",
        "\n",
        "imp = p_fab * 0.30\n",
        "\n",
        "rev = p_fab * 0.10\n",
        "\n",
        "p_final = p_fab + imp + rev\n",
        "\n",
        "print(f\"O PREÇO FINAL DO COMPUTADOR É R$ {p_final}\")\n",
        "print(imp)\n",
        "print(rev)"
      ],
      "metadata": {
        "colab": {
          "base_uri": "https://localhost:8080/"
        },
        "id": "6stsyeYICAHJ",
        "outputId": "248383c1-ba8a-4b10-bafb-e0ffc42e1022"
      },
      "execution_count": null,
      "outputs": [
        {
          "output_type": "stream",
          "name": "stdout",
          "text": [
            "INFORME O PREÇO DE FÁBRICA DO COMPUTADOR:4500\n",
            "O PREÇO FINAL DO COMPUTADOR É R$ 6300.0\n",
            "1350.0\n",
            "450.0\n"
          ]
        }
      ]
    },
    {
      "cell_type": "markdown",
      "source": [
        "3. Faça um algoritmo em Python que leia três números inteiros e calcule a sua média. Ao final, o algoritmo deve escrever os números lidos e o resultado da média."
      ],
      "metadata": {
        "id": "Eo_78dtKEW_E"
      }
    },
    {
      "cell_type": "code",
      "source": [
        "# Algoritmo que vai ler 3 numeros e calcular a média entre eles\n",
        "\n",
        "num1 = 0\n",
        "num2= 0\n",
        "num3 = 0\n",
        "media = 0\n",
        "total = 0\n",
        "\n",
        "num1 = int(input(\"Digite o primeiro numero:\"))\n",
        "num2 = int(input(\"Digite o segundo numero:\"))\n",
        "num3 = int(input(\"Digite o terceiro numero:\"))\n",
        "\n",
        "total = num1 + num2 + num3\n",
        "\n",
        "media = total / 3\n",
        "\n",
        "print(media)"
      ],
      "metadata": {
        "id": "A_s4EPK_EY9U"
      },
      "execution_count": null,
      "outputs": []
    },
    {
      "cell_type": "markdown",
      "source": [],
      "metadata": {
        "id": "2y2yQTizWvBg"
      }
    },
    {
      "cell_type": "markdown",
      "source": [
        "4. Fazer um algoritmo em Python que calcule o número de litros de combustível gastos em uma viagem, sabendo-se que o carro faz 12 km com um litro. Deverão ser lidos o tempo gasto na viagem e a velocidade média. Aplicar as seguintes fórmulas:\n",
        "- Distância = tempo gasto x velocidade média\n",
        "- litros gastos = distância / 12"
      ],
      "metadata": {
        "id": "WtRx-7fbFxSv"
      }
    },
    {
      "cell_type": "code",
      "source": [
        "tempo = int(input(\"informe quanto tempo de duração em horas teve a sua viagem:\"))\n",
        "velo = int(input(\"Digite também a sua velocidade média:\"))\n",
        "dist = int(input(\"Digite a distancia percorrida:\"))\n",
        "\n",
        "dist = tempo * velo\n",
        "\n",
        "litro = dist / 12\n",
        "\n",
        "print(dist)\n",
        "print(litro)\n",
        "\n",
        "\n"
      ],
      "metadata": {
        "colab": {
          "base_uri": "https://localhost:8080/"
        },
        "id": "v9YQtdjWF4PY",
        "outputId": "cecf7e29-5626-4a19-f414-6384abcb014b"
      },
      "execution_count": null,
      "outputs": [
        {
          "output_type": "stream",
          "name": "stdout",
          "text": [
            "informe quanto tempo de duração em horas teve a sua viagem:4\n",
            "Digite também a sua velocidade média:100\n",
            "Digite a distancia percorrida:500\n",
            "400\n",
            "33.333333333333336\n"
          ]
        }
      ]
    },
    {
      "cell_type": "markdown",
      "source": [
        "5. Faça em Python um algoritmo que leia dois números inteiros (x e y), e calcule o quociente e o resto da divisão de x por y e escreva os resultados."
      ],
      "metadata": {
        "id": "BUKmJ-PoJCU_"
      }
    },
    {
      "cell_type": "code",
      "source": [
        "x = int(input(\"Digite o valor de x: \"))\n",
        "y = int(input(\"Digite o valor de y: \"))\n",
        "\n",
        "# Verifica se y é diferente de zero para evitar divisão por zero\n",
        "if y != 0:\n",
        "    quociente = x // y\n",
        "    resto = x % y\n",
        "    print(f\"Quociente: {quociente}\")\n",
        "    print(f\"Resto: {resto}\")\n",
        "else:\n",
        "    print(\"Erro: Divisão por zero não é permitida.\")"
      ],
      "metadata": {
        "id": "a1SjMrNJJSE5",
        "colab": {
          "base_uri": "https://localhost:8080/"
        },
        "outputId": "e0ad1e4c-b459-433e-fd11-32da0a401d44"
      },
      "execution_count": null,
      "outputs": [
        {
          "output_type": "stream",
          "name": "stdout",
          "text": [
            "Digite o valor de x: 50\n",
            "Digite o valor de y: 2\n",
            "Quociente: 25\n",
            "Resto: 0\n"
          ]
        }
      ]
    },
    {
      "cell_type": "markdown",
      "source": [
        "6. Escreva em python um algoritmo que leia três números reais (a, b, c), e calcule a média aritmética. Após os cálculos, os resultados deverão ser escritos."
      ],
      "metadata": {
        "id": "jcpDM-ChuR7k"
      }
    },
    {
      "cell_type": "code",
      "source": [
        "# Leitura dos três números reais\n",
        "a = int(input(\"Digite um numero\"))\n",
        "b = int(input(\"Digite o segundo numero\"))\n",
        "c = int(input(\"Digite o terceiro numero\"))\n",
        "\n",
        "# Cálculo da média aritmética\n",
        "media = (a + b + c) / 3\n",
        "\n",
        "# Exibição do resultado\n",
        "print(\"A média aritmética entre a, b, c é:\", media)\n",
        "\n",
        "\n"
      ],
      "metadata": {
        "colab": {
          "base_uri": "https://localhost:8080/"
        },
        "id": "CYGeOuFzuWAg",
        "outputId": "ff55e247-e839-4f34-97b6-3208e45331d6"
      },
      "execution_count": null,
      "outputs": [
        {
          "output_type": "stream",
          "name": "stdout",
          "text": [
            "Digite um numero5\n",
            "Digite o segundo numero5\n",
            "Digite o terceiro numero5\n",
            "A média aritmética entre a, b, c é: 5.0\n"
          ]
        }
      ]
    },
    {
      "cell_type": "markdown",
      "source": [
        "7. Uma loja de equipamentos de informática resolveu incentivar os seus funcionários a venderem no mês\n",
        "março. Para cada produto vendido, a loja dará uma bonificação de 1%, sobre o salário do funcionário.\n",
        "Desta forma, o funcionário que vender 10 produtos, terá um acréscimo de 10% em seu salário. Faça um\n",
        "algoritmo em Python que leia o código, o nome e o salário fixo do funcionário, além do número de\n",
        "produtos vendidos por ele no mês, e calcule o salário final do funcionário. Por fim, o algoritmo deve\n",
        "escrever o código e o nome do funcionário, juntamente com o seu salário final."
      ],
      "metadata": {
        "id": "xPXalmMLv2Z-"
      }
    },
    {
      "cell_type": "code",
      "source": [
        "codigo = int(input(\"Digite seu código:\"))\n",
        "nome = input(\"Digite seu nome:\")\n",
        "salario = int(input(\"Digite seu sálario:\"))\n",
        "vendas = int(input(\"Digite quantas vendas você fez\"))\n",
        "\n",
        "bonus = (vendas * 0.01) * salario\n",
        "\n",
        "salario_final = salario + bonus\n",
        "\n",
        "print(\"Código do funcionario:\", codigo)\n",
        "print(\"Nome do funcionario:\", nome)\n",
        "print(\"Salario final com bonus:\", salario_final)\n"
      ],
      "metadata": {
        "colab": {
          "base_uri": "https://localhost:8080/"
        },
        "id": "olAZqbNtv9mo",
        "outputId": "2cecd716-da16-4cd4-a7a8-dc95f6bc89a3"
      },
      "execution_count": null,
      "outputs": [
        {
          "output_type": "stream",
          "name": "stdout",
          "text": [
            "Digite seu código:7\n",
            "Digite seu nome:Gabriel \n",
            "Digite seu sálario:1000\n",
            "Digite quantas vendas você fez10\n",
            "Código do funcionario: 7\n",
            "Nome do funcionario: Gabriel \n",
            "Salario final com bonus: 1100.0\n"
          ]
        }
      ]
    },
    {
      "cell_type": "markdown",
      "source": [
        "8. Construa um algoritmo em Python que calcule a quantidade de latas de tintas necessárias e o custo para\n",
        "pintar tanques cilíndricos de combustível, onde são fornecidos a altura e o raio deste cilindro. Sabendo\n",
        "que:\n",
        "\n",
        "● a lata de tinta custa R$ 150,00\n",
        "\n",
        "● cada lata contém 5 litros;\n",
        "\n",
        "● cada litro de tinta pinta 3 metros quadrados;\n",
        "\n",
        "● a área do total cilindro é dada por área da base + área lateral;\n",
        "\n",
        "● a área da base do cilindro é dada π*raio\n",
        "\n",
        "2\n",
        "\n",
        "● a área da lateral é 2*π*raio*altura.\n",
        "\n",
        "● Lembrando que π (pi) vale 3,14."
      ],
      "metadata": {
        "id": "GMuNwI1dyz84"
      }
    },
    {
      "cell_type": "code",
      "source": [
        "import math\n",
        "\n",
        "# Definindo valor de pi como 3.14\n",
        "pi = 3.14\n",
        "\n",
        "# Leitura da altura e do raio do cilindro\n",
        "altura = float(input(\"Digite a altura do cilindro (em metros): \"))\n",
        "raio = float(input(\"Digite o raio do cilindro (em metros): \"))\n",
        "\n",
        "# Cálculo da área da base e da área lateral\n",
        "area_base = pi * (raio ** 2)\n",
        "area_lateral = 2 * pi * raio * altura\n",
        "\n",
        "# Área total a ser pintada (base + lateral)\n",
        "area_total = area_base + area_lateral\n",
        "\n",
        "# Cálculo da quantidade de tinta necessária\n",
        "litros_necessarios = area_total / 3  # Cada litro pinta 3 m²\n",
        "\n",
        "# Cada lata contém 5 litros\n",
        "latas_necessarias = math.ceil(litros_necessarios / 5)  # Arredonda pra cima\n",
        "\n",
        "# Custo total\n",
        "preco_por_lata = 150.00\n",
        "custo_total = latas_necessarias * preco_por_lata\n",
        "\n",
        "# Exibição dos resultados\n",
        "\n",
        "print(f\"Área total a ser pintada: {area_total:.2f} m²\")\n",
        "print(f\"Litros de tinta necessários: {litros_necessarios:.2f} L\")\n",
        "print(f\"Latas de tinta necessárias: {latas_necessarias}\")\n",
        "print(f\"Custo total: R$ {custo_total:.2f}\")"
      ],
      "metadata": {
        "id": "0JvXKe9Yy3RN",
        "colab": {
          "base_uri": "https://localhost:8080/",
          "height": 356
        },
        "outputId": "5ca63e74-630e-4520-a680-c87dfe3a870e"
      },
      "execution_count": null,
      "outputs": [
        {
          "output_type": "error",
          "ename": "KeyboardInterrupt",
          "evalue": "Interrupted by user",
          "traceback": [
            "\u001b[0;31m---------------------------------------------------------------------------\u001b[0m",
            "\u001b[0;31mKeyboardInterrupt\u001b[0m                         Traceback (most recent call last)",
            "\u001b[0;32m<ipython-input-35-c0d7b35d5b9c>\u001b[0m in \u001b[0;36m<cell line: 0>\u001b[0;34m()\u001b[0m\n\u001b[1;32m      5\u001b[0m \u001b[0;34m\u001b[0m\u001b[0m\n\u001b[1;32m      6\u001b[0m \u001b[0;31m# Leitura da altura e do raio do cilindro\u001b[0m\u001b[0;34m\u001b[0m\u001b[0;34m\u001b[0m\u001b[0m\n\u001b[0;32m----> 7\u001b[0;31m \u001b[0maltura\u001b[0m \u001b[0;34m=\u001b[0m \u001b[0mfloat\u001b[0m\u001b[0;34m(\u001b[0m\u001b[0minput\u001b[0m\u001b[0;34m(\u001b[0m\u001b[0;34m\"Digite a altura do cilindro (em metros): \"\u001b[0m\u001b[0;34m)\u001b[0m\u001b[0;34m)\u001b[0m\u001b[0;34m\u001b[0m\u001b[0;34m\u001b[0m\u001b[0m\n\u001b[0m\u001b[1;32m      8\u001b[0m \u001b[0mraio\u001b[0m \u001b[0;34m=\u001b[0m \u001b[0mfloat\u001b[0m\u001b[0;34m(\u001b[0m\u001b[0minput\u001b[0m\u001b[0;34m(\u001b[0m\u001b[0;34m\"Digite o raio do cilindro (em metros): \"\u001b[0m\u001b[0;34m)\u001b[0m\u001b[0;34m)\u001b[0m\u001b[0;34m\u001b[0m\u001b[0;34m\u001b[0m\u001b[0m\n\u001b[1;32m      9\u001b[0m \u001b[0;34m\u001b[0m\u001b[0m\n",
            "\u001b[0;32m/usr/local/lib/python3.11/dist-packages/ipykernel/kernelbase.py\u001b[0m in \u001b[0;36mraw_input\u001b[0;34m(self, prompt)\u001b[0m\n\u001b[1;32m   1175\u001b[0m                 \u001b[0;34m\"raw_input was called, but this frontend does not support input requests.\"\u001b[0m\u001b[0;34m\u001b[0m\u001b[0;34m\u001b[0m\u001b[0m\n\u001b[1;32m   1176\u001b[0m             )\n\u001b[0;32m-> 1177\u001b[0;31m         return self._input_request(\n\u001b[0m\u001b[1;32m   1178\u001b[0m             \u001b[0mstr\u001b[0m\u001b[0;34m(\u001b[0m\u001b[0mprompt\u001b[0m\u001b[0;34m)\u001b[0m\u001b[0;34m,\u001b[0m\u001b[0;34m\u001b[0m\u001b[0;34m\u001b[0m\u001b[0m\n\u001b[1;32m   1179\u001b[0m             \u001b[0mself\u001b[0m\u001b[0;34m.\u001b[0m\u001b[0m_parent_ident\u001b[0m\u001b[0;34m[\u001b[0m\u001b[0;34m\"shell\"\u001b[0m\u001b[0;34m]\u001b[0m\u001b[0;34m,\u001b[0m\u001b[0;34m\u001b[0m\u001b[0;34m\u001b[0m\u001b[0m\n",
            "\u001b[0;32m/usr/local/lib/python3.11/dist-packages/ipykernel/kernelbase.py\u001b[0m in \u001b[0;36m_input_request\u001b[0;34m(self, prompt, ident, parent, password)\u001b[0m\n\u001b[1;32m   1217\u001b[0m             \u001b[0;32mexcept\u001b[0m \u001b[0mKeyboardInterrupt\u001b[0m\u001b[0;34m:\u001b[0m\u001b[0;34m\u001b[0m\u001b[0;34m\u001b[0m\u001b[0m\n\u001b[1;32m   1218\u001b[0m                 \u001b[0;31m# re-raise KeyboardInterrupt, to truncate traceback\u001b[0m\u001b[0;34m\u001b[0m\u001b[0;34m\u001b[0m\u001b[0m\n\u001b[0;32m-> 1219\u001b[0;31m                 \u001b[0;32mraise\u001b[0m \u001b[0mKeyboardInterrupt\u001b[0m\u001b[0;34m(\u001b[0m\u001b[0;34m\"Interrupted by user\"\u001b[0m\u001b[0;34m)\u001b[0m \u001b[0;32mfrom\u001b[0m \u001b[0;32mNone\u001b[0m\u001b[0;34m\u001b[0m\u001b[0;34m\u001b[0m\u001b[0m\n\u001b[0m\u001b[1;32m   1220\u001b[0m             \u001b[0;32mexcept\u001b[0m \u001b[0mException\u001b[0m\u001b[0;34m:\u001b[0m\u001b[0;34m\u001b[0m\u001b[0;34m\u001b[0m\u001b[0m\n\u001b[1;32m   1221\u001b[0m                 \u001b[0mself\u001b[0m\u001b[0;34m.\u001b[0m\u001b[0mlog\u001b[0m\u001b[0;34m.\u001b[0m\u001b[0mwarning\u001b[0m\u001b[0;34m(\u001b[0m\u001b[0;34m\"Invalid Message:\"\u001b[0m\u001b[0;34m,\u001b[0m \u001b[0mexc_info\u001b[0m\u001b[0;34m=\u001b[0m\u001b[0;32mTrue\u001b[0m\u001b[0;34m)\u001b[0m\u001b[0;34m\u001b[0m\u001b[0;34m\u001b[0m\u001b[0m\n",
            "\u001b[0;31mKeyboardInterrupt\u001b[0m: Interrupted by user"
          ]
        }
      ]
    },
    {
      "cell_type": "markdown",
      "source": [
        "9. Elabore um algoritmo em Python para calcular e escrever o preço final de um computador, sendo\n",
        "fornecido o preço de fábrica. O preço final do computador é calculado com base nos adicionais 45 % de\n",
        "imposto e 28 % de revenda sobre o preço de fábrica."
      ],
      "metadata": {
        "id": "F1SQ-Z_4WxqQ"
      }
    },
    {
      "cell_type": "code",
      "source": [
        "imposto = 0.45\n",
        "revenda = 0.28\n",
        "\n",
        "p_fabrica = int(input(\"informe o preço de fabrica deste computador:\"))\n",
        "\n",
        "total_imposto = p_fabrica * imposto\n",
        "\n",
        "total_revenda = p_fabrica * revenda\n",
        "\n",
        "total = p_fabrica + total_revenda + total_imposto\n",
        "\n",
        "print(f\"o valor final do computador somando impostos e revenda custa {total}\")\n",
        "print(imposto)\n",
        "print(revenda)"
      ],
      "metadata": {
        "colab": {
          "base_uri": "https://localhost:8080/"
        },
        "id": "rTo1Ld7iWz-V",
        "outputId": "bb60e142-b1af-4c11-eb37-fbddf654e20f"
      },
      "execution_count": null,
      "outputs": [
        {
          "output_type": "stream",
          "name": "stdout",
          "text": [
            "informe o preço de fabrica deste computador:1000\n",
            "o valor final do computador somando impostos e revenda custa 1730.0\n",
            "450.0\n",
            "280.0\n"
          ]
        }
      ]
    },
    {
      "cell_type": "markdown",
      "source": [
        "10. Uma revendedora de carros usados paga aos seus funcionários vendedores, um salário fixo por mês, mais\n",
        "uma comissão para cada carro vendido. Escreva um algoritmo em Python que leia o número do vendedor,o seu salário fixo, o número de carros por ele vendidos, e o valor que recebe por carro vendido, e calcule o\n",
        "salário mensal do vendedor, escrevendo-o juntamente com o seu número de identificação."
      ],
      "metadata": {
        "id": "Xgoy6NH8XorZ"
      }
    },
    {
      "cell_type": "code",
      "source": [
        "numero_vendedor = input(\"informe o seu numero de identificação:\")\n",
        "salario = float(input(\"informe o seu salario fixo:\"))\n",
        "vendas = float(input(\"quantos carros você vendeu?\"))\n",
        "bonus = float(input(\"informe o seu bonus\"))\n",
        "\n",
        "bonus_total = salario + (vendas * bonus)\n",
        "\n",
        "print(f\"O vendedor {numero_vendedor} vai receber um bonus de {bonus} em cima de {vendas} vendas, ele recebe o total de {bonus_total} no final do mês\")"
      ],
      "metadata": {
        "colab": {
          "base_uri": "https://localhost:8080/"
        },
        "id": "vRdSXnA7Xt5K",
        "outputId": "ed28dba7-5b1d-468d-d452-1ee8bf9d141a"
      },
      "execution_count": null,
      "outputs": [
        {
          "output_type": "stream",
          "name": "stdout",
          "text": [
            "informe o seu numero de identificação:10\n",
            "informe o seu salario fixo:3000\n",
            "quantos carros você vendeu?10\n",
            "informe o seu bonus30\n",
            "O vendedor 10 vai receber um bonus de 30.0 em cima de 10.0 vendas, ele recebe o total de 3300.0 no final do mês\n"
          ]
        }
      ]
    },
    {
      "cell_type": "markdown",
      "source": [
        "11. Uma empresa, para emitir a sua folha de pagamento mensal, trabalha com os seguintes dados:\n",
        "\n",
        "Relativos ao Sistema de Pagamentos\n",
        "\n",
        "Valor da Hora Normal = R$ 8,00\n",
        "\n",
        "Valor da Hora Extra = R$ 9,50\n",
        "\n",
        "Valor do Acréscimo por Dependente = RS 2,50\n",
        "\n",
        "Relativos a cada Funcionário\n",
        "\n",
        "Número de Identificação\n",
        "\n",
        "Nome\n",
        "\n",
        "Número de horas normais trabalhadas\n",
        "\n",
        "Número de horas extras trabalhadas\n",
        "\n",
        "Número de dependentes\n",
        "\n",
        "O cálculo do salário de cada funcionário é feito em 3 etapas:\n",
        "\n",
        "Etapa 1 : Cálculo do Salário Bruto\n",
        "\n",
        "SALARIO BRUTO = Valor Total de Horas Normais + Valor Total de Horas Extras + Valor Total de Dependentes\n",
        "\n",
        "Etapa 2 : Descontos\n",
        "\n",
        "Todos os funcionários são isentos de imposto de renda, e descontam 5% do salário bruto para o INSS.\n",
        "\n",
        "Etapa 3 : Salário Líquido\n",
        "\n",
        "SALARIO LÍQUIDO = SALARIO BRUTO - DESCONTO\n",
        "\n",
        "Escrever um algoritmo em Python que leia os dados referentes ao funcionário, calcule e escreva o salário líquido do funcionário da empresa. Obs.: Além do salário líquido, escreva o número de identificação e o nome do funcionário."
      ],
      "metadata": {
        "id": "24VvYQEVaX17"
      }
    },
    {
      "cell_type": "code",
      "source": [
        "# Entradas\n",
        "id = input(\"informe o seu código identificador:\")\n",
        "nome = input(\"informe o seu nome:\")\n",
        "normal = float(input(\"Informe a quantidade de horas trabalhadas\"))\n",
        "extra = float(input(\"Informe quantas horas extras você fez neste mês\"))\n",
        "dep = int(input(\"Informe quantos dependentes tens:\"))\n",
        "\n",
        "# Constantes\n",
        "valor_hora_normal = 8.00\n",
        "valor_hora_extra = 9.50\n",
        "valor_qtd_dependentes = 2.50\n",
        "inss = 0.05\n",
        "\n",
        "hora_normal = normal * valor_hora_normal\n",
        "hora_extra = extra * valor_hora_extra\n",
        "qtd_dependentes = dep * valor_qtd_dependentes\n",
        "\n",
        "salario_bruto = hora_normal + hora_extra + qtd_dependentes\n",
        "\n",
        "desconto = salario_bruto * inss\n",
        "\n",
        "salario_liquido = salario_bruto - desconto\n",
        "\n",
        "\n",
        "print(f\" O {nome} de ID: {id} vai receber um salario bruto de {salario_bruto}, com {desconto} de desconto. No final o seu salaário liquido ficou de: {salario_liquido}\")"
      ],
      "metadata": {
        "colab": {
          "base_uri": "https://localhost:8080/"
        },
        "id": "oolr0o_wa4xZ",
        "outputId": "094f529d-ce74-4949-be8c-8c652d6b8940"
      },
      "execution_count": null,
      "outputs": [
        {
          "output_type": "stream",
          "name": "stdout",
          "text": [
            "informe o seu código identificador:1\n",
            "informe o seu nome:Gabriel\n",
            "Informe a quantidade de horas trabalhadas200\n",
            "Informe quantas horas extras você fez neste mês20\n",
            "Informe quantos dependentes tens:5\n",
            " O Gabriel de ID: 1 vai receber um salario bruto de 1802.5, com 90.125 de desconto. No final o seu salaário liquido ficou de: 1712.375\n"
          ]
        }
      ]
    }
  ]
}