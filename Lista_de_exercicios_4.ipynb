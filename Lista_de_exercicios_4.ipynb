{
  "nbformat": 4,
  "nbformat_minor": 0,
  "metadata": {
    "colab": {
      "provenance": [],
      "authorship_tag": "ABX9TyO2bDGf5QZRRSST3Ipm0HZw",
      "include_colab_link": true
    },
    "kernelspec": {
      "name": "python3",
      "display_name": "Python 3"
    },
    "language_info": {
      "name": "python"
    }
  },
  "cells": [
    {
      "cell_type": "markdown",
      "metadata": {
        "id": "view-in-github",
        "colab_type": "text"
      },
      "source": [
        "<a href=\"https://colab.research.google.com/github/GabWolff/PensamentoComputacional25-1/blob/main/Lista_de_exercicios_4.ipynb\" target=\"_parent\"><img src=\"https://colab.research.google.com/assets/colab-badge.svg\" alt=\"Open In Colab\"/></a>"
      ]
    },
    {
      "cell_type": "markdown",
      "source": [
        "##1. Faça um algoritmo em Python que leia a nota de vários alunos de uma turma. Ao final, deve ser escrita a média geral da turma. A leitura das médias somente encerra quando uma nota negativa for digitada."
      ],
      "metadata": {
        "id": "1vPCVCsqWzxv"
      }
    },
    {
      "cell_type": "code",
      "execution_count": 1,
      "metadata": {
        "colab": {
          "base_uri": "https://localhost:8080/"
        },
        "id": "E9eJogbgWxBQ",
        "outputId": "c78eb15a-0f4b-48db-f7e4-9a2f66516b72"
      },
      "outputs": [
        {
          "output_type": "stream",
          "name": "stdout",
          "text": [
            "Digite a nota do aluno (valor negativo para encerrar): 10\n",
            "Digite a nota do aluno (valor negativo para encerrar): 5\n",
            "Digite a nota do aluno (valor negativo para encerrar): 9\n",
            "Digite a nota do aluno (valor negativo para encerrar): 8\n",
            "Digite a nota do aluno (valor negativo para encerrar): 6\n",
            "Digite a nota do aluno (valor negativo para encerrar): 5\n",
            "Digite a nota do aluno (valor negativo para encerrar): 10\n",
            "Digite a nota do aluno (valor negativo para encerrar): 30\n",
            "Digite a nota do aluno (valor negativo para encerrar): 40\n",
            "Digite a nota do aluno (valor negativo para encerrar): 0\n",
            "Digite a nota do aluno (valor negativo para encerrar): -1\n",
            "Média geral da turma: 12.30\n"
          ]
        }
      ],
      "source": [
        "# Inicializando variáveis\n",
        "soma_notas = 0\n",
        "quantidade_alunos = 0\n",
        "\n",
        "while True:\n",
        "    try:\n",
        "        nota = float(input(\"Digite a nota do aluno (valor negativo para encerrar): \"))\n",
        "\n",
        "        if nota < 0:\n",
        "            break  # Encerra o loop se a nota for negativa\n",
        "\n",
        "        soma_notas += nota\n",
        "        quantidade_alunos += 1\n",
        "\n",
        "    except ValueError:\n",
        "        print(\"Por favor, digite um valor numérico válido.\")\n",
        "\n",
        "# Verifica se alguma nota válida foi inserida\n",
        "if quantidade_alunos > 0:\n",
        "    media_geral = soma_notas / quantidade_alunos\n",
        "    print(f\"Média geral da turma: {media_geral:.2f}\")\n",
        "else:\n",
        "    print(\"Nenhuma nota válida foi informada.\")"
      ]
    },
    {
      "cell_type": "markdown",
      "source": [
        "##2. Faça um programa em Python para repetir a leitura de um número enquanto o valor fornecido for diferente de 0. Para cada número fornecido, escrever se ele é NEGATIVO ou POSITIVO. Quando o número 0 for fornecido o algoritmo deve encerrar informando o usuário."
      ],
      "metadata": {
        "id": "gFB_2P9mX6n4"
      }
    },
    {
      "cell_type": "code",
      "source": [
        "while True:\n",
        "    try:\n",
        "        numero = float(input(\"Digite um número (0 para encerrar): \"))\n",
        "\n",
        "        if numero == 0:\n",
        "            print(\"Encerrando o programa. Você digitou 0.\")\n",
        "            break  # Encerra o loop se o número for 0\n",
        "        elif numero > 0:\n",
        "            print(\"Número POSITIVO.\")\n",
        "        else:\n",
        "            print(\"Número NEGATIVO.\")\n",
        "\n",
        "    except ValueError:\n",
        "        print(\"Entrada inválida. Por favor, digite um número válido.\")"
      ],
      "metadata": {
        "id": "_eo_Qp-tX9fj"
      },
      "execution_count": null,
      "outputs": []
    },
    {
      "cell_type": "markdown",
      "source": [
        "##3. Faça um programa em Python para ler uma quantidade indeterminada de valores inteiros. Para cada valor fornecido apresentar uma mensagem que indique se o valor fornecido é PAR ou ÍMPAR. O programa será encerrado imediatamente após a leitura de um valor NULO (zero) ou NEGATIVO."
      ],
      "metadata": {
        "id": "Je6W33R-YA5p"
      }
    },
    {
      "cell_type": "code",
      "source": [
        "while True:\n",
        "    try:\n",
        "        numero = int(input(\"Digite um número inteiro (0 ou negativo para encerrar): \"))\n",
        "\n",
        "        if numero <= 0:\n",
        "            print(\"Programa encerrado. Valor nulo ou negativo digitado.\")\n",
        "            break  # Encerra se o número for zero ou negativo\n",
        "\n",
        "        if numero % 2 == 0:\n",
        "            print(\"O número é PAR.\")\n",
        "        else:\n",
        "            print(\"O número é ÍMPAR.\")\n",
        "\n",
        "    except ValueError:\n",
        "        print(\"Entrada inválida. Por favor, digite um número inteiro.\")"
      ],
      "metadata": {
        "id": "Ko3VzghyakuC"
      },
      "execution_count": null,
      "outputs": []
    },
    {
      "cell_type": "markdown",
      "source": [
        "## 4. Sabe-se que não existe divisão por zero, para isso faça um programa que leia dois valores inteiros e escreva o resultado da divisão do primeiro pelo segundo. Se o segundo valor informado for ZERO, deve ser impressa uma mensagem de VALOR INVÁLIDO e uma nova leitura do segundo valor deve ser realizada. Ao final do programa deve ser impressa a seguinte mensagem: VOCÊ DESEJA OUTRO CÁLCULO (S/N). Se"
      ],
      "metadata": {
        "id": "cA6T0TD8as9y"
      }
    },
    {
      "cell_type": "code",
      "source": [
        "while True:\n",
        "    try:\n",
        "        # Leitura do primeiro valor\n",
        "        num1 = int(input(\"Digite o primeiro valor inteiro: \"))\n",
        "\n",
        "        # Leitura do segundo valor com validação para zero\n",
        "        while True:\n",
        "            num2 = int(input(\"Digite o segundo valor inteiro (não pode ser zero): \"))\n",
        "            if num2 != 0:\n",
        "                break\n",
        "            else:\n",
        "                print(\"VALOR INVÁLIDO! O segundo valor não pode ser zero.\")\n",
        "\n",
        "        # Realiza a divisão\n",
        "        resultado = num1 / num2\n",
        "        print(f\"Resultado da divisão: {resultado:.2f}\")\n",
        "\n",
        "        # Pergunta se o usuário deseja outro cálculo\n",
        "        continuar = input(\"VOCÊ DESEJA OUTRO CÁLCULO (S/N)? \").strip().upper()\n",
        "        if continuar != 'S':\n",
        "            print(\"Programa encerrado.\")\n",
        "            break\n",
        "\n",
        "    except ValueError:\n",
        "        print(\"Entrada inválida. Por favor, digite apenas números inteiros.\")"
      ],
      "metadata": {
        "id": "MqK_ExQqa_F0"
      },
      "execution_count": null,
      "outputs": []
    },
    {
      "cell_type": "markdown",
      "source": [
        "## 5. Faça um programa em Python que verifique a validade de uma senha fornecida pelo usuário. A senha válida é o número 1234. OBS: Se a senha informada pelo usuário for inválida, a mensagem \"ACESSO NEGADO\" deve ser impressa e repetida a solicitação de uma nova senha até que ela seja válida. Caso contrário deve ser impressa a mensagem \"ACESSO PERMITIDO\" junto com um número que representa quantas vezes a senha foi informada."
      ],
      "metadata": {
        "id": "wcS0aswQbCUM"
      }
    },
    {
      "cell_type": "code",
      "source": [
        "senha_correta = \"1234\"\n",
        "tentativas = 0\n",
        "\n",
        "while True:\n",
        "    senha = input(\"Digite a senha: \")\n",
        "    tentativas += 1\n",
        "\n",
        "    if senha == senha_correta:\n",
        "        print(f\"ACESSO PERMITIDO após {tentativas} tentativa(s).\")\n",
        "        break\n",
        "    else:\n",
        "        print(\"ACESSO NEGADO\")"
      ],
      "metadata": {
        "id": "uIalIOdGbSg7"
      },
      "execution_count": null,
      "outputs": []
    },
    {
      "cell_type": "markdown",
      "source": [
        "## 6. Faça um programa em Python que verifique a validade de uma senha fornecida pelo usuário. A senha válida é o número 1234. Se a senha informada pelo usuário for válida a mensagem \"ACESSO PERMITIDO\" deve ser informada. O usuário não terá acesso ao sistema se errar a senha três vezes, neste caso a mensagem \"ACESSO NEGADO\" deve ser informada e a cada vez que o usuário errar a senha, dentro do limite, a mensagem informada será \"SENHA ERRADA, TENTATIVA X DE 3\", sendo o X o número da tentativa."
      ],
      "metadata": {
        "id": "VXXdbErWcMnU"
      }
    },
    {
      "cell_type": "code",
      "source": [
        "senha_correta = \"1234\"\n",
        "limite_tentativas = 3\n",
        "\n",
        "for tentativa in range(1, limite_tentativas + 1):\n",
        "    senha = input(\"Digite a senha: \")\n",
        "\n",
        "    if senha == senha_correta:\n",
        "        print(\"ACESSO PERMITIDO\")\n",
        "        break\n",
        "    else:\n",
        "        if tentativa < limite_tentativas:\n",
        "            print(f\"SENHA ERRADA, TENTATIVA {tentativa} DE 3\")\n",
        "        else:\n",
        "            print(\"ACESSO NEGADO\")"
      ],
      "metadata": {
        "id": "MfupLQ-xcUp7"
      },
      "execution_count": null,
      "outputs": []
    }
  ]
}