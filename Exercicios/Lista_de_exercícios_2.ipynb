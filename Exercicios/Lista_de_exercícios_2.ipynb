{
  "nbformat": 4,
  "nbformat_minor": 0,
  "metadata": {
    "colab": {
      "provenance": [],
      "collapsed_sections": [
        "Cd3l5gDNsv_H",
        "K5iHa5FJvLec",
        "TkfP8YBrwz6k",
        "booSKeHVzPZ5",
        "zKPJ7nFh1rQ6",
        "-gHGpDro4sSe",
        "-br9ZQXITvEP"
      ],
      "authorship_tag": "ABX9TyMCyji70ThGE/6x64VH7eev",
      "include_colab_link": true
    },
    "kernelspec": {
      "name": "python3",
      "display_name": "Python 3"
    },
    "language_info": {
      "name": "python"
    }
  },
  "cells": [
    {
      "cell_type": "markdown",
      "metadata": {
        "id": "view-in-github",
        "colab_type": "text"
      },
      "source": [
        "<a href=\"https://colab.research.google.com/github/GabWolff/PensamentoComputacional25-1/blob/main/Lista_de_exerc%C3%ADcios_2.ipynb\" target=\"_parent\"><img src=\"https://colab.research.google.com/assets/colab-badge.svg\" alt=\"Open In Colab\"/></a>"
      ]
    },
    {
      "cell_type": "markdown",
      "source": [
        "# Segunda lista de exercicios"
      ],
      "metadata": {
        "id": "4i5weZnNskVg"
      }
    },
    {
      "cell_type": "markdown",
      "source": [
        "##1. Faça um algoritmo em Python para ler dois valores numéricos e apresentar a diferença do maior\n",
        "pelo menor."
      ],
      "metadata": {
        "id": "Cd3l5gDNsv_H"
      }
    },
    {
      "cell_type": "code",
      "execution_count": null,
      "metadata": {
        "colab": {
          "base_uri": "https://localhost:8080/"
        },
        "id": "m9aJ_LBssgsG",
        "outputId": "f167ed52-130b-4e58-a094-41aa7615cbd4"
      },
      "outputs": [
        {
          "output_type": "stream",
          "name": "stdout",
          "text": [
            "Digite o primeiro numero:10\n",
            "Digite o segundo numero5\n",
            "A diferença entre o numero maior pelo menor é 5\n"
          ]
        }
      ],
      "source": [
        "valor1 = int(input(\"Digite o primeiro numero:\"))\n",
        "valor2 = int(input(\"Digite o segundo numero\"))\n",
        "\n",
        "maior = max(valor1, valor2)\n",
        "menor = min(valor1, valor2)\n",
        "diferenca = maior - menor\n",
        "\n",
        "print(f\"A diferença entre o numero maior pelo menor é {diferenca}\")\n"
      ]
    },
    {
      "cell_type": "markdown",
      "source": [
        "##2. Faça um algoritmo em Python para ler dois números. Se os números forem iguais escrever a mensagem: \"NÚMEROS IGUAIS\" e encerrar a execução; caso contrário, escrever o de maior valor."
      ],
      "metadata": {
        "id": "K5iHa5FJvLec"
      }
    },
    {
      "cell_type": "code",
      "source": [
        "num1 = float(input(\"digite o primeiro numero:\"))\n",
        "num2 = float(input(\"Digite o segundo numero:\"))\n",
        "\n",
        "if (num1 == num2):\n",
        "  print(\"numeros iguais, o código sera encerrado\")\n",
        "else:\n",
        "  maior = max(num1, num2)\n",
        "  print(f\"o maior numero é {maior}\")\n"
      ],
      "metadata": {
        "colab": {
          "base_uri": "https://localhost:8080/"
        },
        "id": "KYF4dQxavTWE",
        "outputId": "89f6b92e-2bcb-4d3d-9574-86f6ffe651da"
      },
      "execution_count": null,
      "outputs": [
        {
          "output_type": "stream",
          "name": "stdout",
          "text": [
            "digite o primeiro numero:7000\n",
            "Digite o segundo numero:6666\n",
            "o maior numero é 7000\n"
          ]
        }
      ]
    },
    {
      "cell_type": "code",
      "source": [
        "num1 = float(input(\"digite o primeiro numero:\"))\n",
        "num2 = float(input(\"Digite o segundo numero:\"))\n",
        "\n",
        "if num1 == num2:\n",
        "  print(\"Numeros iguais, o código sera encerrado\")\n",
        "else:\n",
        "  if num1 > num2:\n",
        "    print(f\"O maior numero é o {num1}\")\n",
        "  else:\n",
        "    print(f\"o maior numero é o {num2}\")"
      ],
      "metadata": {
        "colab": {
          "base_uri": "https://localhost:8080/"
        },
        "id": "OSAo85iHx43J",
        "outputId": "6454db04-a98b-4bd8-89de-47e40c50feee"
      },
      "execution_count": null,
      "outputs": [
        {
          "output_type": "stream",
          "name": "stdout",
          "text": [
            "digite o primeiro numero:50\n",
            "Digite o segundo numero:70\n",
            "o maior numero é o 70.0\n"
          ]
        }
      ]
    },
    {
      "cell_type": "markdown",
      "source": [
        "##3. Faça um algoritmo em Python para ler dois valores: NUM1 e NUM2, e se NUM1 for maior que NUM2 executa a soma de NUM1 e NUM2; caso contrário, executa uma subtração."
      ],
      "metadata": {
        "id": "TkfP8YBrwz6k"
      }
    },
    {
      "cell_type": "code",
      "source": [
        "num1 = float(input(\"Digite o primeiro Numero:\"))\n",
        "num2 = float(input(\"Digite o segundo Numero:\"))\n",
        "\n",
        "if num1 > num2:\n",
        "  print(f\"O numero maior é o {num1}, nesse caso faremos a soma de\", num1, \"e\", num2, \"que é igual a:\", num1 + num2)\n",
        "else:\n",
        "  print(f\"o numero maior é o {num2}, nesse caso faremos uma subtração do,\", num2, \"-\", num1, \"o resultador é:\", num2 - num1)\n"
      ],
      "metadata": {
        "colab": {
          "base_uri": "https://localhost:8080/"
        },
        "id": "8dvCmcchw498",
        "outputId": "232e3971-54c6-4ef4-85a4-c80fadc6a96f"
      },
      "execution_count": null,
      "outputs": [
        {
          "output_type": "stream",
          "name": "stdout",
          "text": [
            "Digite o primeiro Numero:1\n",
            "Digite o segundo Numero:2\n",
            "o numero maior é o 2.0, nesse caso faremos uma subtração do, 2.0 - 1.0 o resultador é: 1.0\n"
          ]
        }
      ]
    },
    {
      "cell_type": "markdown",
      "source": [
        "## 4. O hotel Pica-Pau cobra R$ 150,00 a diária e mais uma taxa de serviços. A taxa de serviços é de:\n",
        "\n",
        "###● R$ 15 por dia, se número de diárias <15\n",
        "\n",
        "###● R$ 10 por dia, se número de diárias =15\n",
        "\n",
        "###● R$ 5 por dia, se número de diárias >15\n",
        "\n",
        "###Faça um algoritmo em Python que lê o número de diárias e calcula o total a ser pago pelo cliente."
      ],
      "metadata": {
        "id": "booSKeHVzPZ5"
      }
    },
    {
      "cell_type": "code",
      "source": [
        "diaria = 150.0\n",
        "dias = int(input(\"Digite a quantidade de dias que ficou no hotel:\"))\n",
        "\n",
        "if dias < 15:\n",
        "  print(f\"o valor a ser pago pela diaria é de {150} vezes os {dias} dias que + taxas ficou no total:\", (diaria * dias) + (dias * 15))\n",
        "elif dias == 15:\n",
        "  print(f\"o valor a ser pago pela diaria é de {150} vezes os {dias} dias que + taxas ficou no total:\",(diaria * dias) + (dias * 10))\n",
        "elif dias > 15:\n",
        "  print(f\"o valor a ser pago pela diaria é de {150} vezes os {dias} dias que + taxas ficou no total:\" (diaria * dias) + (dias * 5))\n"
      ],
      "metadata": {
        "colab": {
          "base_uri": "https://localhost:8080/"
        },
        "id": "64_fVYMnzdCo",
        "outputId": "5c95bf2f-4bba-40ab-88c3-090a11354fea"
      },
      "execution_count": null,
      "outputs": [
        {
          "output_type": "stream",
          "name": "stdout",
          "text": [
            "Digite a quantidade de dias que ficou no hotel:10\n",
            "o valor a ser pago pela diaria é de 150 vezes os 10 dias que + taxas ficou no total: 1650.0\n"
          ]
        }
      ]
    },
    {
      "cell_type": "markdown",
      "source": [
        "##5. Escrever um programa em Python que lê as 3 notas obtidas por ele em provas. Para cada aluno, calcular a média de aproveitamento, usando a fórmula:\n",
        "\n",
        "#### MA = (Nl + N2 + N3) / 3\n",
        "\n",
        "#### A atribuição de conceitos obedece à tabela abaixo:\n",
        "#### Média de Aproveitamento Conceito\n",
        ">= 9.0 A\n",
        "\n",
        ">= 7.5 e < 9.0 B\n",
        "\n",
        ">= 6.0 e < 7.5 C\n",
        "\n",
        ">= 4.0 e < 6.0 D\n",
        "\n",
        "< 4.0 E\n",
        "\n",
        "####O programa deve escrever as notas, a média de aproveitamento, o conceito\n",
        "correspondente e a mensagem: \"APROVADO\" se o conceito for A, B, ou C e\n",
        "\"REPROVADO\" se conceito for D ou E."
      ],
      "metadata": {
        "id": "zKPJ7nFh1rQ6"
      }
    },
    {
      "cell_type": "code",
      "source": [
        "n1 = float(input(\"Digite a sua primeira nota:\"))\n",
        "n2 = float(input(\"Digite a sua segunda nota:\"))\n",
        "n3 = float(input(\"Digite a sua terceira nota:\"))\n",
        "\n",
        "# calculo da média\n",
        "media = (n1 + n2 + n3) / 3\n",
        "\n",
        "if media >= 9:\n",
        " conceito = \"A\"\n",
        "elif media >= 7.5 and media < 9:\n",
        "  conceito = \"B\"\n",
        "elif media >= 6 and media <= 7.5:\n",
        "  conceito = \"C\"\n",
        "elif media >= 4 and media <= 6:\n",
        "  conceito = \"D\"\n",
        "elif media < 4:\n",
        "  conceito = \"E\"\n",
        "\n",
        "print(f\"Aprovado com a nota {media}\", \"O seu concetio ficou\", conceito)\n",
        "\n"
      ],
      "metadata": {
        "id": "2eTsRG8I18c0"
      },
      "execution_count": null,
      "outputs": []
    },
    {
      "cell_type": "markdown",
      "source": [
        "##6. Faça um programa em Python que leia a altura e o sexo de uma pessoa, calcule seu peso ideal, utilizando as seguintes fórmulas:\n",
        "\n",
        "####● homens : (72,7*altura) –58\n",
        "\n",
        "####● mulheres : (62,1*altura) – 44,7"
      ],
      "metadata": {
        "id": "-gHGpDro4sSe"
      }
    },
    {
      "cell_type": "code",
      "source": [
        "altura = float(input(\"Digite sua altura em metros (ex: 1.75): \"))\n",
        "sexo = input(\"Digite seu sexo (M para masculino ou F para feminino): \")\n",
        "\n",
        "if sexo == \"M\":\n",
        "    peso_ideal = (72.7 * altura) - 58\n",
        "    print(f\"Seu peso ideal é: {peso_ideal:.2f} kg\")\n",
        "elif sexo == \"F\":\n",
        "    peso_ideal = (62.1 * altura) - 44.7\n",
        "    print(f\"Seu peso ideal é: {peso_ideal:.2f} kg\")\n",
        "else:\n",
        "    print(\"Sexo inválido. Digite M para masculino ou F para feminino.\")"
      ],
      "metadata": {
        "id": "b84uvIxD4yxM"
      },
      "execution_count": null,
      "outputs": []
    },
    {
      "cell_type": "markdown",
      "source": [
        "##7. Escrever um programa em Python que lê os seguintes dados de um funcionário: o número de horas trabalhadas e o valor que recebe por hora. Calcular e escrever, o salário bruto (SB) e o valor de desconto do Imposto de Renda (IR) como segue:\n",
        "\n",
        "● Se SB > 3.500,00 então IR = 15% do SB\n",
        "\n",
        "● Se SB > 1.500,00 e SB <= 3.500,00 então IR = 8% do SB\n",
        "\n",
        "● Se SB <= 1.500,00 então IR = 0."
      ],
      "metadata": {
        "id": "-br9ZQXITvEP"
      }
    },
    {
      "cell_type": "code",
      "source": [
        "horas_trab = float(input(\"Digite a quantidade de horas trabalhadas neste mês:\"))\n",
        "valor_hora = float(input(\"Informe o valor que recebe por hora trabalhada:\"))\n",
        "\n",
        "ir1 = 0.15\n",
        "ir2 = 0.08\n",
        "ir3 = 0\n",
        "\n",
        "valor_total = horas_trab * valor_hora\n",
        "\n",
        "if valor_total > 3.500:\n",
        "  print(valor_total * ir1)\n",
        "elif valor_total <= 3.500 and valor_total > 1.500:\n",
        "  print(valor_total * ir2)\n",
        "elif valor_total <= 1.500:\n",
        "  print(valor_total * ir3)\n",
        "\n",
        "print(valor_total)"
      ],
      "metadata": {
        "id": "TwCD0mzhT35H",
        "colab": {
          "base_uri": "https://localhost:8080/"
        },
        "outputId": "a3db9f72-36b3-41ca-aeef-db19e31505b6"
      },
      "execution_count": null,
      "outputs": [
        {
          "output_type": "stream",
          "name": "stdout",
          "text": [
            "Digite a quantidade de horas trabalhadas neste mês:180\n",
            "Informe o valor que recebe por hora trabalhada:30\n",
            "810.0\n",
            "5400.0\n"
          ]
        }
      ]
    },
    {
      "cell_type": "code",
      "source": [
        "# Entrada de dados\n",
        "horas_trabalhadas = float(input(\"Digite o número de horas trabalhadas: \"))\n",
        "valor_por_hora = float(input(\"Digite o valor que recebe por hora: R$ \"))\n",
        "\n",
        "# Cálculo do salário bruto\n",
        "salario_bruto = horas_trabalhadas * valor_por_hora\n",
        "\n",
        "# Cálculo do Imposto de Renda\n",
        "if salario_bruto > 3500.00:\n",
        "    imposto_renda = salario_bruto * 0.15\n",
        "elif salario_bruto > 1500.00:\n",
        "    imposto_renda = salario_bruto * 0.08\n",
        "else:\n",
        "    imposto_renda = 0.0\n",
        "\n",
        "# Saída dos resultados\n",
        "print(f\"\\nSalário Bruto: R$ {salario_bruto:.2f}\")\n",
        "print(f\"Desconto do Imposto de Renda: R$ {imposto_renda:.2f}\")"
      ],
      "metadata": {
        "colab": {
          "base_uri": "https://localhost:8080/"
        },
        "id": "OaVzhEFPWppX",
        "outputId": "b41b2250-4b97-409e-9bc4-0876ec3b24e9"
      },
      "execution_count": null,
      "outputs": [
        {
          "output_type": "stream",
          "name": "stdout",
          "text": [
            "Digite o número de horas trabalhadas: 180\n",
            "Digite o valor que recebe por hora: R$ 30\n",
            "\n",
            "Salário Bruto: R$ 5400.00\n",
            "Desconto do Imposto de Renda: R$ 810.00\n"
          ]
        }
      ]
    }
  ]
}