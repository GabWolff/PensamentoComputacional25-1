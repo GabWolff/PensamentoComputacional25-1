{
  "nbformat": 4,
  "nbformat_minor": 0,
  "metadata": {
    "colab": {
      "provenance": [],
      "authorship_tag": "ABX9TyO/8gG67pKYpN+G+AaDbb0G",
      "include_colab_link": true
    },
    "kernelspec": {
      "name": "python3",
      "display_name": "Python 3"
    },
    "language_info": {
      "name": "python"
    }
  },
  "cells": [
    {
      "cell_type": "markdown",
      "metadata": {
        "id": "view-in-github",
        "colab_type": "text"
      },
      "source": [
        "<a href=\"https://colab.research.google.com/github/GabWolff/PensamentoComputacional25-1/blob/main/Filmes.ipynb\" target=\"_parent\"><img src=\"https://colab.research.google.com/assets/colab-badge.svg\" alt=\"Open In Colab\"/></a>"
      ]
    },
    {
      "cell_type": "markdown",
      "source": [
        "# Desafio Cinematográfico\n",
        "\n",
        "### Seu desafio é desenvolver um programa em Python para registrar os filmes favoritos e as notas que você dá a cada um deles."
      ],
      "metadata": {
        "id": "qYzCLDb7A4cG"
      }
    },
    {
      "cell_type": "code",
      "execution_count": null,
      "metadata": {
        "colab": {
          "base_uri": "https://localhost:8080/"
        },
        "id": "Hr_Qi2Rr_8nq",
        "outputId": "fea3268e-7f5a-4560-8ede-a62e597ddc94"
      },
      "outputs": [
        {
          "output_type": "stream",
          "name": "stdout",
          "text": [
            "🎬 Bem-vindo ao Festival de Filmes Pessoais!\n",
            "\n",
            "O que você deseja fazer?\n",
            "1 - Adicionar novo filme\n",
            "2 - Editar nota de um filme\n",
            "3 - Remover um filme\n",
            "4 - Exibir todos os filmes\n",
            "5 - Sair\n"
          ]
        }
      ],
      "source": [
        "# Verifica se o filme já foi cadastrado\n",
        "def filme_existe(nome, lista_nomes):\n",
        "    for existente in lista_nomes:\n",
        "        if existente.lower() == nome.lower():\n",
        "            return True\n",
        "    return False\n",
        "\n",
        "# Retorna o índice do filme na lista\n",
        "def encontrar_indice(nome, lista_nomes):\n",
        "    for i, existente in enumerate(lista_nomes):\n",
        "        if existente.lower() == nome.lower():\n",
        "            return i\n",
        "    return -1\n",
        "\n",
        "# Pede o nome do filme\n",
        "def solicitar_nome():\n",
        "    return input(\"Digite o nome do filme (ou 'sair' para encerrar): \").strip()\n",
        "\n",
        "# Pede a nota e valida\n",
        "def solicitar_nota(nome):\n",
        "    try:\n",
        "        nota = float(input(f\"Digite a nota para '{nome}' (de 0.0 a 10.0): \"))\n",
        "        if 0.0 <= nota <= 10.0:\n",
        "            return nota\n",
        "        else:\n",
        "            print(\"⚠️ A nota deve estar entre 0.0 e 10.0.\")\n",
        "            return None\n",
        "    except ValueError:\n",
        "        print(\"⚠️ Por favor, insira um número válido.\")\n",
        "        return None\n",
        "\n",
        "# Mostra os resultados\n",
        "def exibir_resultados(nomes, notas):\n",
        "    print(\"\\n📽️ Lista de filmes cadastrados e suas notas:\")\n",
        "    for i in range(len(nomes)):\n",
        "        print(f\"{i + 1}. {nomes[i]} — Nota: {notas[i]}\")\n",
        "    if notas:\n",
        "        media = sum(notas) / len(notas)\n",
        "        print(f\"\\n⭐ Nota média dos filmes: {media:.2f}\")\n",
        "    else:\n",
        "        print(\"\\nNenhum filme foi cadastrado.\")\n",
        "\n",
        "# Edita a nota de um filme\n",
        "def editar_filme(nomes, notas):\n",
        "    nome = input(\"Digite o nome do filme que deseja editar: \").strip()\n",
        "    indice = encontrar_indice(nome, nomes)\n",
        "    if indice == -1:\n",
        "        print(\"⚠️ Filme não encontrado.\")\n",
        "        return\n",
        "    nova_nota = solicitar_nota(nome)\n",
        "    if nova_nota is not None:\n",
        "        notas[indice] = nova_nota\n",
        "        print(\"✅ Nota atualizada com sucesso!\")\n",
        "\n",
        "# Remove um filme\n",
        "def remover_filme(nomes, notas):\n",
        "    nome = input(\"Digite o nome do filme que deseja remover: \").strip()\n",
        "    indice = encontrar_indice(nome, nomes)\n",
        "    if indice == -1:\n",
        "        print(\"⚠️ Filme não encontrado.\")\n",
        "        return\n",
        "    nomes.pop(indice)\n",
        "    notas.pop(indice)\n",
        "    print(\"🗑️ Filme removido com sucesso!\")\n",
        "\n",
        "# Programa principal\n",
        "nomes = []\n",
        "notas = []\n",
        "\n",
        "print(\"🎬 Bem-vindo ao Festival de Filmes Pessoais!\")\n",
        "\n",
        "while True:\n",
        "    print(\"\\nO que você deseja fazer?\")\n",
        "    print(\"1 - Adicionar novo filme\")\n",
        "    print(\"2 - Editar nota de um filme\")\n",
        "    print(\"3 - Remover um filme\")\n",
        "    print(\"4 - Exibir todos os filmes\")\n",
        "    print(\"5 - Sair\")\n",
        "\n",
        "    escolha = input(\"Digite o número da opção: \").strip()\n",
        "\n",
        "    if escolha == \"1\":\n",
        "        if len(nomes) >= 1000:\n",
        "            print(\"⚠️ Limite de 1000 filmes atingido.\")\n",
        "            continue\n",
        "        nome = solicitar_nome()\n",
        "        if nome.lower() == \"sair\":\n",
        "            break\n",
        "        if filme_existe(nome, nomes):\n",
        "            print(\"⚠️ Esse filme já foi cadastrado!\")\n",
        "            continue\n",
        "        nota = solicitar_nota(nome)\n",
        "        if nota is not None:\n",
        "            nomes.append(nome)\n",
        "            notas.append(nota)\n",
        "\n",
        "    elif escolha == \"2\":\n",
        "        editar_filme(nomes, notas)\n",
        "\n",
        "    elif escolha == \"3\":\n",
        "        remover_filme(nomes, notas)\n",
        "\n",
        "    elif escolha == \"4\":\n",
        "        exibir_resultados(nomes, notas)\n",
        "\n",
        "    elif escolha == \"5\":\n",
        "        break\n",
        "\n",
        "    else:\n",
        "        print(\"⚠️ Opção inválida. Tente novamente.\")\n",
        "\n",
        "print(\"\\n🎞️ Encerrando o programa. Aqui está seu festival:\")\n",
        "exibir_resultados(nomes, notas)\n"
      ]
    }
  ]
}