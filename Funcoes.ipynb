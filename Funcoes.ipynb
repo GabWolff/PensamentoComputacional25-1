{
  "nbformat": 4,
  "nbformat_minor": 0,
  "metadata": {
    "colab": {
      "provenance": [],
      "authorship_tag": "ABX9TyMUrlSb4vhE4e/dLh2EDYrM",
      "include_colab_link": true
    },
    "kernelspec": {
      "name": "python3",
      "display_name": "Python 3"
    },
    "language_info": {
      "name": "python"
    }
  },
  "cells": [
    {
      "cell_type": "markdown",
      "metadata": {
        "id": "view-in-github",
        "colab_type": "text"
      },
      "source": [
        "<a href=\"https://colab.research.google.com/github/GabWolff/PensamentoComputacional25-1/blob/main/Funcoes.ipynb\" target=\"_parent\"><img src=\"https://colab.research.google.com/assets/colab-badge.svg\" alt=\"Open In Colab\"/></a>"
      ]
    },
    {
      "cell_type": "markdown",
      "source": [
        "#Calculadora Simples em Python\n",
        "\n",
        "Soma: +\n",
        "\n",
        "Subtração: -\n",
        "\n",
        "Multiplicação: *\n",
        "\n",
        "Divisão: /\n",
        "\n",
        "Potência: **\n",
        "\n",
        "Raiz Quadrada: Usando math.sqrt para calcular a raiz quadrada.\n",
        "\n",
        "Potência: Usando math.pow(a, b) para calcular\n",
        "𝑎\n",
        "𝑏\n",
        "a\n",
        "b\n",
        " .\n",
        "\n"
      ],
      "metadata": {
        "id": "oeR22ScRmRU5"
      }
    },
    {
      "cell_type": "code",
      "execution_count": 40,
      "metadata": {
        "id": "vqRTT-Helw3v"
      },
      "outputs": [],
      "source": [
        "import math\n",
        "\n",
        "\n",
        "def soma(a, b):\n",
        "  return a + b\n",
        "\n",
        "def sub(a, b):\n",
        "  return a - b\n",
        "\n",
        "def mult(a, b):\n",
        "  return a * b\n",
        "\n",
        "def div(a, b):\n",
        "  return a / b\n",
        "\n",
        "def pot(a, b):\n",
        "  return math.pow(a,b)\n",
        "\n",
        "def raiz(a, b):\n",
        "  return math.pow(a, 1/b)\n",
        "\n",
        "def div(a, b):\n",
        "  return a // b\n",
        "\n",
        "def mod(a, b):\n",
        "  return a % b"
      ]
    },
    {
      "cell_type": "code",
      "source": [
        "# Menu de opções\n",
        "op_string = \"\"\"\n",
        "📌 ------- DIGITE UMA OPÇÃO -------\n",
        "\n",
        "➕  +     → Soma\n",
        "➖  -     → Subtração\n",
        "✖️  *     → Multiplicação\n",
        "➗  /     → Divisão\n",
        "🔼  **    → Potência (a ^ b)\n",
        "🌱  //    → Raiz (a raiz b)\n",
        "📏  DIV   → Divisão inteira\n",
        "📦  MOD   → Resto da divisão inteira\n",
        "❌  S     → Sair\n",
        "\n",
        "\"\"\"\n",
        "\n",
        "while True:\n",
        "    print(titulo)\n",
        "    operacao = input(op_string).strip().upper()\n",
        "\n",
        "    if operacao == \"S\":\n",
        "        print(\"\\n❌ Você saiu do programa. Até logo!\")\n",
        "        break\n",
        "\n",
        "    try:\n",
        "        a = float(input(\"\\n👉 Digite o primeiro valor: \"))\n",
        "        b = float(input(\"👉 Digite o segundo valor: \"))\n",
        "\n",
        "        if operacao == \"+\":\n",
        "            print(f\"\\n✅ {a} + {b} = {soma(a, b)}\")\n",
        "        elif operacao == \"-\":\n",
        "            print(f\"\\n✅ {a} - {b} = {sub(a, b)}\")\n",
        "        elif operacao == \"*\":\n",
        "            print(f\"\\n✅ {a} * {b} = {mult(a, b)}\")\n",
        "        elif operacao == \"/\":\n",
        "            if b == 0:\n",
        "                print(\"\\n⚠️ Erro: divisão por zero!\")\n",
        "            else:\n",
        "                print(f\"\\n✅ {a} / {b} = {div(a, b)}\")\n",
        "        elif operacao == \"**\":\n",
        "            print(f\"\\n✅ {a} ^ {b} = {pot(a, b)}\")\n",
        "        elif operacao == \"//\":\n",
        "            resultado = raiz(a, b)\n",
        "            print(f\"\\n✅ Raiz {b} de {a} = {resultado}\")\n",
        "        elif operacao == \"MOD\":\n",
        "            print(f\"\\n✅ {a} % {b} = {mod(a, b)}\")\n",
        "        elif operacao == \"DIV\":\n",
        "            print(f\"\\n✅ {a} // {b} = {div_inteira(a, b)}\")\n",
        "        else:\n",
        "            print(\"\\n⚠️ Operação inválida!\")\n",
        "    except ValueError:\n",
        "        print(\"\\n⚠️ Erro: digite apenas números válidos!\")\n",
        "\n",
        "    input(\"\\n🔁 Pressione Enter para continuar...\\n\")"
      ],
      "metadata": {
        "colab": {
          "base_uri": "https://localhost:8080/"
        },
        "id": "ue9Sc5yXnCwg",
        "outputId": "cc968f3f-0b7e-4475-cfeb-2e7c8cb0e6f1"
      },
      "execution_count": null,
      "outputs": [
        {
          "output_type": "stream",
          "name": "stdout",
          "text": [
            "\n",
            "╔════════════════════════════════╗\n",
            "║         🧮 CALCULADORA         ║\n",
            "╚════════════════════════════════╝\n",
            "\n",
            "\n",
            "📌 ------- DIGITE UMA OPÇÃO -------\n",
            "\n",
            "➕  +     → Soma\n",
            "➖  -     → Subtração\n",
            "✖️  *     → Multiplicação\n",
            "➗  /     → Divisão\n",
            "🔼  **    → Potência (a ^ b)\n",
            "🌱  //    → Raiz (a raiz b)\n",
            "📏  DIV   → Divisão inteira\n",
            "📦  MOD   → Resto da divisão inteira\n",
            "❌  S     → Sair\n",
            "\n",
            "+\n",
            "\n",
            "👉 Digite o primeiro valor: 15\n",
            "👉 Digite o segundo valor: 25\n",
            "\n",
            "✅ 15.0 + 25.0 = 40.0\n",
            "\n",
            "🔁 Pressione Enter para continuar...\n",
            "\n",
            "\n",
            "╔════════════════════════════════╗\n",
            "║         🧮 CALCULADORA         ║\n",
            "╚════════════════════════════════╝\n",
            "\n"
          ]
        }
      ]
    }
  ]
}