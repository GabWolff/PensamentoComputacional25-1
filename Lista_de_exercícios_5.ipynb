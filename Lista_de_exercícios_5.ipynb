{
  "nbformat": 4,
  "nbformat_minor": 0,
  "metadata": {
    "colab": {
      "provenance": [],
      "authorship_tag": "ABX9TyObooEOnYe9yVBk9KpItiqL",
      "include_colab_link": true
    },
    "kernelspec": {
      "name": "python3",
      "display_name": "Python 3"
    },
    "language_info": {
      "name": "python"
    }
  },
  "cells": [
    {
      "cell_type": "markdown",
      "metadata": {
        "id": "view-in-github",
        "colab_type": "text"
      },
      "source": [
        "<a href=\"https://colab.research.google.com/github/GabWolff/PensamentoComputacional25-1/blob/main/Lista_de_exerc%C3%ADcios_5.ipynb\" target=\"_parent\"><img src=\"https://colab.research.google.com/assets/colab-badge.svg\" alt=\"Open In Colab\"/></a>"
      ]
    },
    {
      "cell_type": "markdown",
      "source": [
        "#Exercícios com Listas em Python"
      ],
      "metadata": {
        "id": "6wMThfMOZy93"
      }
    },
    {
      "cell_type": "markdown",
      "source": [
        "## Exercício 1 – Array de 5 Nomes Objetivo:\n",
        "\n",
        "Ler 5 nomes de pessoas quaisquer.\n",
        "\n",
        "Exibir todos os nomes do primeiro ao último."
      ],
      "metadata": {
        "id": "ztuI57aNZ3iN"
      }
    },
    {
      "cell_type": "code",
      "source": [
        "# Criando um array vazio para armazenar os nomes\n",
        "nomes = []\n",
        "\n",
        "# Lendo 5 nomes do usuário\n",
        "for i in range(5):\n",
        "    nome = input(f\"Digite o {i+1}º nome: \")\n",
        "    nomes.append(nome)\n",
        "\n",
        "# Exibindo os nomes do primeiro ao último\n",
        "print(\"\\nOs nomes digitados foram:\")\n",
        "for nome in nomes:\n",
        "    print(nome)"
      ],
      "metadata": {
        "colab": {
          "base_uri": "https://localhost:8080/"
        },
        "id": "AkJZa9HWaEP2",
        "outputId": "31faf6c1-fe14-403a-df7f-c54b7c0d8472"
      },
      "execution_count": null,
      "outputs": [
        {
          "output_type": "stream",
          "name": "stdout",
          "text": [
            "Digite o 1º nome: Gabriel Wolff\n",
            "Digite o 2º nome: João\n",
            "Digite o 3º nome: Gustavo\n",
            "Digite o 4º nome: Felipe\n",
            "Digite o 5º nome: Guilherme\n",
            "\n",
            "Os nomes digitados foram:\n",
            "Gabriel Wolff\n",
            "João\n",
            "Gustavo\n",
            "Felipe\n",
            "Guilherme\n"
          ]
        }
      ]
    },
    {
      "cell_type": "markdown",
      "source": [
        "## Exercício 2 – Lista com Quantidade Informada\n",
        "Objetivo:\n",
        "\n",
        "Perguntar ao usuário quantos nomes ele irá informar.\n",
        "\n",
        "Ler os nomes e exibi-los na mesma ordem."
      ],
      "metadata": {
        "id": "RHdu42osa3wC"
      }
    },
    {
      "cell_type": "code",
      "source": [
        "# Perguntar ao usuário quantos nomes ele irá informar\n",
        "quantidade = int(input(\"Quantos nomes você gostaria de informar? \"))\n",
        "\n",
        "# Criar uma lista para armazenar os nomes\n",
        "nomes = []\n",
        "\n",
        "# Ler os nomes conforme a quantidade informada\n",
        "for i in range(quantidade):\n",
        "    nome = input(f\"Digite o {i+1}º nome: \")\n",
        "    nomes.append(nome)\n",
        "\n",
        "# Exibir os nomes na mesma ordem em que foram digitados\n",
        "print(\"\\nOs nomes digitados foram:\")\n",
        "for nome in nomes:\n",
        "    print(nome)\n"
      ],
      "metadata": {
        "colab": {
          "base_uri": "https://localhost:8080/"
        },
        "id": "6dyNWlbfbCxP",
        "outputId": "6b585f18-63ad-48cf-a57b-95d34557fb31"
      },
      "execution_count": null,
      "outputs": [
        {
          "output_type": "stream",
          "name": "stdout",
          "text": [
            "Quantos nomes você gostaria de informar? 3\n",
            "Digite o 1º nome: Keila\n",
            "Digite o 2º nome: Mariana\n",
            "Digite o 3º nome: Gabriel\n",
            "\n",
            "Os nomes digitados foram:\n",
            "Keila\n",
            "Mariana\n",
            "Gabriel\n"
          ]
        }
      ]
    },
    {
      "cell_type": "markdown",
      "source": [
        "## Exercício 3 – Times de Futebol\n",
        "\n",
        "Objetivo:\n",
        "\n",
        "Ler uma lista com nomes de times (-quantidade definida pelo usuário).\n",
        "\n",
        "Exibir: o primeiro time, o time do meio e o último time."
      ],
      "metadata": {
        "id": "MzDSkhHXbXo1"
      }
    },
    {
      "cell_type": "code",
      "source": [
        "# Perguntar ao usuário quantos times ele vai informar\n",
        "quantidade = int(input(\"Quantos times de futebol você deseja informar? \"))\n",
        "\n",
        "# Criar uma lista para armazenar os nomes dos times\n",
        "times = []\n",
        "\n",
        "# Ler os nomes dos times\n",
        "for i in range(quantidade):\n",
        "    time = input(f\"Digite o nome do {i+1}º time: \")\n",
        "    times.append(time)\n",
        "\n",
        "# Calcular o índice do time do meio\n",
        "meio = quantidade // 2\n",
        "\n",
        "# Exibir o primeiro, o do meio e o último time\n",
        "print(\"\\nTimes selecionados:\")\n",
        "print(f\"Primeiro time: {times[0]}\")\n",
        "print(f\"Time do meio: {times[meio]}\")\n",
        "print(f\"Último time: {times[-1]}\")\n"
      ],
      "metadata": {
        "colab": {
          "base_uri": "https://localhost:8080/"
        },
        "id": "lbZhvLn2cGjn",
        "outputId": "b141b689-e9d9-4439-8e9a-0af5b732e129"
      },
      "execution_count": null,
      "outputs": [
        {
          "output_type": "stream",
          "name": "stdout",
          "text": [
            "Quantos times de futebol você deseja informar? 4\n",
            "Digite o nome do 1º time: Gremio\n",
            "Digite o nome do 2º time: Palmeiras\n",
            "Digite o nome do 3º time: Cruzeiro\n",
            "Digite o nome do 4º time: Juventude\n",
            "\n",
            "Times selecionados:\n",
            "Primeiro time: Gremio\n",
            "Time do meio: Cruzeiro\n",
            "Último time: Juventude\n"
          ]
        }
      ]
    },
    {
      "cell_type": "code",
      "source": [
        "nomes = []\n",
        "\n",
        "quantidade = int(input(\"Quantos times de futebol você deseja informar? \"))\n",
        "\n",
        "for i in range(quantidade):\n",
        "  nomes.append(input(f\"Digite o nome do {i+1}º time: \"))\n",
        "if quantidade %2 == 0:\n",
        "  print(f\"{nomes[0]} (primeiro)\")\n",
        "  print(f\"{nomes[quantidade//2 -1]} / {nomes[quantidade//2]} (meio)\")\n",
        "  print(f\"{nomes[quantidade -1]} (ultimo)\")\n",
        "else:\n",
        "  print(f\"{nomes[0]} (primeiro)\")\n",
        "  print(f\"{nomes[quantidade//2]} (meio)\")\n",
        "  print(f\"{nomes[quantidade -1]} (ultimo)\")\n",
        "\n"
      ],
      "metadata": {
        "colab": {
          "base_uri": "https://localhost:8080/"
        },
        "id": "2Tqjyu3Js-N_",
        "outputId": "1141563d-be6a-43f4-e73e-d3716c6ae603"
      },
      "execution_count": null,
      "outputs": [
        {
          "output_type": "stream",
          "name": "stdout",
          "text": [
            "Quantos times de futebol você deseja informar? 4\n",
            "Digite o nome do 1º time: t1\n",
            "Digite o nome do 2º time: t2\n",
            "Digite o nome do 3º time: t3\n",
            "Digite o nome do 4º time: t4\n",
            "t1 (primeiro)\n",
            "t2 / t3 (meio)\n",
            "t4 (ultimo)\n"
          ]
        }
      ]
    },
    {
      "cell_type": "markdown",
      "source": [
        "## Exercício 4 – Exibir Números (Ordem Normal) Objetivo:\n",
        "Ler uma lista de números quaisquer.\n",
        "\n",
        "Exibir os números do primeiro ao último."
      ],
      "metadata": {
        "id": "e_N5oyPgvU98"
      }
    },
    {
      "cell_type": "code",
      "source": [
        "numeros = []\n",
        "continuar = \"s\"\n",
        "\n",
        "while continuar == \"s\":\n",
        "    numero = input(\"Digite um número: \")\n",
        "    numeros.append(numero)\n",
        "    continuar = input(\"Deseja digitar outro número? (s/n): \")\n",
        "\n",
        "i = 0\n",
        "while i < len(numeros):\n",
        "    print(numeros[i])\n",
        "    i += 1\n"
      ],
      "metadata": {
        "colab": {
          "base_uri": "https://localhost:8080/"
        },
        "id": "RjOUk5Bqwney",
        "outputId": "2967daff-12dd-4e10-92b5-90dfe0ec04c9"
      },
      "execution_count": null,
      "outputs": [
        {
          "output_type": "stream",
          "name": "stdout",
          "text": [
            "Digite um número: 1\n",
            "Deseja digitar outro número? (s/n): p\n",
            "1\n"
          ]
        }
      ]
    },
    {
      "cell_type": "code",
      "source": [
        "# Algoritmo que lê um numero indeterminado de numeros\n",
        "\n",
        "numeros = []\n",
        "\n",
        "while True:\n",
        "  entrada = input(\"Digite um numero ou sair para parar de digitar!\")\n",
        "  if entrada == \"sair\":\n",
        "    break\n",
        "  elif entrada.isnumeric():\n",
        "    numeros.append(float(entrada))\n",
        "  else:\n",
        "    print(\"invalido\")\n",
        "\n",
        "for numero in numeros:\n",
        "  print(numero)"
      ],
      "metadata": {
        "colab": {
          "base_uri": "https://localhost:8080/"
        },
        "id": "3UZu_i503Igs",
        "outputId": "70e31212-4b69-40db-f1fc-157993ed0107"
      },
      "execution_count": null,
      "outputs": [
        {
          "output_type": "stream",
          "name": "stdout",
          "text": [
            "Digite um numero ou sair para parar de digitar!5\n",
            "Digite um numero ou sair para parar de digitar!4\n",
            "Digite um numero ou sair para parar de digitar!s\n",
            "invalido\n",
            "Digite um numero ou sair para parar de digitar!5\n",
            "Digite um numero ou sair para parar de digitar!parar\n",
            "invalido\n",
            "Digite um numero ou sair para parar de digitar!sair\n",
            "5.0\n",
            "4.0\n",
            "5.0\n"
          ]
        }
      ]
    },
    {
      "cell_type": "markdown",
      "source": [
        "## Exercício 5 – Exibir Números (Ordem Inversa) Objetivo:\n",
        "\n",
        "Ler uma lista de números.\n",
        "\n",
        "Exibir os números do último para o primeiro."
      ],
      "metadata": {
        "id": "QsXgn52h0G7v"
      }
    },
    {
      "cell_type": "code",
      "source": [
        "numeros = []\n",
        "\n",
        "# Parte 1 – Coleta dos números\n",
        "continuar = \"s\"\n",
        "while continuar == \"s\":\n",
        "    numero = input(\"Digite um número: \")\n",
        "    numeros.append(numero)\n",
        "    continuar = input(\"Deseja digitar outro número? (s/n): \")\n",
        "\n",
        "# Parte 2 – Exibe os números do último para o primeiro\n",
        "i = -1\n",
        "while numeros != []:\n",
        "    print(numeros[i])\n",
        "    numeros.pop(i)\n"
      ],
      "metadata": {
        "colab": {
          "base_uri": "https://localhost:8080/"
        },
        "id": "xx1H3dZS0Lku",
        "outputId": "d08fc887-cfd1-4d52-d950-e29998ad81e6"
      },
      "execution_count": null,
      "outputs": [
        {
          "output_type": "stream",
          "name": "stdout",
          "text": [
            "Digite um número: 5\n",
            "Deseja digitar outro número? (s/n): s\n",
            "Digite um número: 3\n",
            "Deseja digitar outro número? (s/n): s\n",
            "Digite um número: 8\n",
            "Deseja digitar outro número? (s/n): s\n",
            "Digite um número: 10\n",
            "Deseja digitar outro número? (s/n): n\n",
            "10\n",
            "8\n",
            "3\n",
            "5\n"
          ]
        }
      ]
    },
    {
      "cell_type": "code",
      "source": [
        "# Algoritmo que lê um numero indeterminado de numeros\n",
        "\n",
        "numeros = []\n",
        "\n",
        "while True:\n",
        "  entrada = input(\"Digite um numero ou sair para parar de digitar!\")\n",
        "  if entrada == \"sair\":\n",
        "    break\n",
        "  elif entrada.isnumeric():\n",
        "    numeros.append(float(entrada))\n",
        "  else:\n",
        "    print(\"invalido\")\n",
        "\n",
        "#numeros_reversos= reversed(numeros)\n",
        "#for numero in reversed(numeros):\n",
        "  # print(numero)\n",
        "\n",
        "#for i in range(1, len(numeros)+1):\n",
        " # print(numeros[i*-1])\n",
        "\n",
        "quantidade = len(numeros)\n",
        "for i in range(1, quantidade+1):\n",
        "  print(numeros[quantidade-i-1])"
      ],
      "metadata": {
        "id": "qBQmErue2Hcc"
      },
      "execution_count": null,
      "outputs": []
    },
    {
      "cell_type": "markdown",
      "source": [],
      "metadata": {
        "id": "UGXosBp85hep"
      }
    }
  ]
}